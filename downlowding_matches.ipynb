{
 "cells": [
  {
   "cell_type": "code",
   "execution_count": null,
   "metadata": {},
   "outputs": [],
   "source": [
    "import json\n",
    "import requests\n",
    "import time"
   ]
  },
  {
   "cell_type": "code",
   "execution_count": null,
   "metadata": {},
   "outputs": [],
   "source": [
    "with open(\"JSON_DATA/pro_players_list.json\", \"r\") as read_file:\n",
    "    players_list = json.load(read_file)"
   ]
  },
  {
   "cell_type": "code",
   "execution_count": 1,
   "metadata": {},
   "outputs": [],
   "source": [
    "for player in players_list:\n",
    "    check = False\n",
    "    while check == False:\n",
    "        try:\n",
    "            accaunt_id = str(player['account_id'])\n",
    "            url = 'https://api.opendota.com/api/players/' + accaunt_id+ '/matches'\n",
    "            r = requests.get(url)\n",
    "            with open('JSON_DATA/'+ accaunt_id + '.json', 'wb') as outfile:\n",
    "                outfile.write(r.content)\n",
    "            time.sleep(1)\n",
    "            print('.', end=' ')\n",
    "            check = True\n",
    "        except: time.sleep(2)"
   ]
  }
 ],
 "metadata": {
  "kernelspec": {
   "display_name": "Python 3.8.10 64-bit",
   "language": "python",
   "name": "python3"
  },
  "language_info": {
   "codemirror_mode": {
    "name": "ipython",
    "version": 3
   },
   "file_extension": ".py",
   "mimetype": "text/x-python",
   "name": "python",
   "nbconvert_exporter": "python",
   "pygments_lexer": "ipython3",
   "version": "3.8.10"
  },
  "orig_nbformat": 4,
  "vscode": {
   "interpreter": {
    "hash": "916dbcbb3f70747c44a77c7bcd40155683ae19c65e1c03b4aa3499c5328201f1"
   }
  }
 },
 "nbformat": 4,
 "nbformat_minor": 2
}
